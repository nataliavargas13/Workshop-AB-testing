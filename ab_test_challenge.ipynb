{
 "cells": [
  {
   "cell_type": "markdown",
   "id": "5809e45c",
   "metadata": {},
   "source": [
    "# A/B Test Challenge\n",
    "\n",
    "\n",
    "\n",
    "---\n",
    "\n",
    "#### What is an A/B Test? \n",
    "\n",
    "It is a decision making support & research methodology that allow you to measure an impact of a change in a product (e.g.: a digital product). For this challenge you will analyse the data resulting of an A/B test performed on a digital product where a new set of sponsored ads are included.\n",
    "\n",
    "\n",
    "#### Measure of success\n",
    "\n",
    "Metrics are needed to measure the success of your product. They are typically split in the following categories: \n",
    "\n",
    "- __Enganged based metrics:__ number of users, number of downloads, number of active users, user retention, etc.\n",
    "\n",
    "- __Revenue and monetization metrics:__ ads and affiliate links, subscription-based, in-app purchases, etc.\n",
    "\n",
    "- __Technical metrics:__ service level indicators (uptime of the app, downtime of the app, latency).\n",
    "\n"
   ]
  },
  {
   "cell_type": "markdown",
   "id": "37beb756",
   "metadata": {},
   "source": [
    "---\n",
    "\n",
    "## Metrics understanding\n",
    "\n",
    "In this part you must analyse the metrics involved in the test. We will focus in the following metrics:\n",
    "\n",
    "- Activity level + Daily active users (DAU).\n",
    "\n",
    "- Click-through rate (CTR)"
   ]
  },
  {
   "cell_type": "markdown",
   "id": "1656e9f4",
   "metadata": {},
   "source": [
    "### Activity level\n",
    "\n",
    "In the following part you must perform every calculation you consider necessary in order to answer the following questions:\n",
    "\n",
    "- How many activity levels you can find in the dataset (Activity level of zero means no activity).\n",
    "\n",
    "- What is the amount of users for each activity level.\n",
    "\n",
    "- How many activity levels do you have per day and how many records per each activity level.\n",
    "\n",
    "At the end of this section you must provide your conclusions about the _activity level_ of the users.\n",
    "\n",
    "__Dataset:__ `activity_pretest.csv`"
   ]
  },
  {
   "cell_type": "code",
   "execution_count": 2,
   "id": "560a5c8f",
   "metadata": {},
   "outputs": [],
   "source": [
    "# your-code\n",
    "\n",
    "import pandas as pd\n",
    "import numpy as np\n",
    "from scipy import stats\n",
    "from statsmodels.stats.weightstats import ztest\n",
    "from scipy import stats\n",
    "\n",
    "import seaborn as sns\n",
    "import matplotlib.pylab as plt"
   ]
  },
  {
   "cell_type": "code",
   "execution_count": 32,
   "id": "c2685914",
   "metadata": {},
   "outputs": [
    {
     "data": {
      "text/html": [
       "<div>\n",
       "<style scoped>\n",
       "    .dataframe tbody tr th:only-of-type {\n",
       "        vertical-align: middle;\n",
       "    }\n",
       "\n",
       "    .dataframe tbody tr th {\n",
       "        vertical-align: top;\n",
       "    }\n",
       "\n",
       "    .dataframe thead th {\n",
       "        text-align: right;\n",
       "    }\n",
       "</style>\n",
       "<table border=\"1\" class=\"dataframe\">\n",
       "  <thead>\n",
       "    <tr style=\"text-align: right;\">\n",
       "      <th></th>\n",
       "      <th>userid</th>\n",
       "      <th>dt</th>\n",
       "      <th>activity_level</th>\n",
       "    </tr>\n",
       "  </thead>\n",
       "  <tbody>\n",
       "    <tr>\n",
       "      <th>0</th>\n",
       "      <td>a5b70ae7-f07c-4773-9df4-ce112bc9dc48</td>\n",
       "      <td>2021-10-01</td>\n",
       "      <td>0</td>\n",
       "    </tr>\n",
       "    <tr>\n",
       "      <th>1</th>\n",
       "      <td>d2646662-269f-49de-aab1-8776afced9a3</td>\n",
       "      <td>2021-10-01</td>\n",
       "      <td>0</td>\n",
       "    </tr>\n",
       "    <tr>\n",
       "      <th>2</th>\n",
       "      <td>c4d1cfa8-283d-49ad-a894-90aedc39c798</td>\n",
       "      <td>2021-10-01</td>\n",
       "      <td>0</td>\n",
       "    </tr>\n",
       "    <tr>\n",
       "      <th>3</th>\n",
       "      <td>6889f87f-5356-4904-a35a-6ea5020011db</td>\n",
       "      <td>2021-10-01</td>\n",
       "      <td>0</td>\n",
       "    </tr>\n",
       "    <tr>\n",
       "      <th>4</th>\n",
       "      <td>dbee604c-474a-4c9d-b013-508e5a0e3059</td>\n",
       "      <td>2021-10-01</td>\n",
       "      <td>0</td>\n",
       "    </tr>\n",
       "    <tr>\n",
       "      <th>...</th>\n",
       "      <td>...</td>\n",
       "      <td>...</td>\n",
       "      <td>...</td>\n",
       "    </tr>\n",
       "    <tr>\n",
       "      <th>1859995</th>\n",
       "      <td>200d65e6-b1ce-4a47-8c2b-946db5c5a3a0</td>\n",
       "      <td>2021-10-31</td>\n",
       "      <td>20</td>\n",
       "    </tr>\n",
       "    <tr>\n",
       "      <th>1859996</th>\n",
       "      <td>535dafe4-de7c-4b56-acf6-aa94f21653bc</td>\n",
       "      <td>2021-10-31</td>\n",
       "      <td>20</td>\n",
       "    </tr>\n",
       "    <tr>\n",
       "      <th>1859997</th>\n",
       "      <td>0428ca3c-e666-4ef4-8588-3a2af904a123</td>\n",
       "      <td>2021-10-31</td>\n",
       "      <td>20</td>\n",
       "    </tr>\n",
       "    <tr>\n",
       "      <th>1859998</th>\n",
       "      <td>a8cd1579-44d4-48b3-b3d6-47ae5197dbc6</td>\n",
       "      <td>2021-10-31</td>\n",
       "      <td>20</td>\n",
       "    </tr>\n",
       "    <tr>\n",
       "      <th>1859999</th>\n",
       "      <td>bac5da9e-ef79-4ae9-9efe-cd6eca093db2</td>\n",
       "      <td>2021-10-31</td>\n",
       "      <td>20</td>\n",
       "    </tr>\n",
       "  </tbody>\n",
       "</table>\n",
       "<p>1860000 rows × 3 columns</p>\n",
       "</div>"
      ],
      "text/plain": [
       "                                       userid          dt  activity_level\n",
       "0        a5b70ae7-f07c-4773-9df4-ce112bc9dc48  2021-10-01               0\n",
       "1        d2646662-269f-49de-aab1-8776afced9a3  2021-10-01               0\n",
       "2        c4d1cfa8-283d-49ad-a894-90aedc39c798  2021-10-01               0\n",
       "3        6889f87f-5356-4904-a35a-6ea5020011db  2021-10-01               0\n",
       "4        dbee604c-474a-4c9d-b013-508e5a0e3059  2021-10-01               0\n",
       "...                                       ...         ...             ...\n",
       "1859995  200d65e6-b1ce-4a47-8c2b-946db5c5a3a0  2021-10-31              20\n",
       "1859996  535dafe4-de7c-4b56-acf6-aa94f21653bc  2021-10-31              20\n",
       "1859997  0428ca3c-e666-4ef4-8588-3a2af904a123  2021-10-31              20\n",
       "1859998  a8cd1579-44d4-48b3-b3d6-47ae5197dbc6  2021-10-31              20\n",
       "1859999  bac5da9e-ef79-4ae9-9efe-cd6eca093db2  2021-10-31              20\n",
       "\n",
       "[1860000 rows x 3 columns]"
      ]
     },
     "execution_count": 32,
     "metadata": {},
     "output_type": "execute_result"
    }
   ],
   "source": [
    "activity_pretest = pd.read_csv('./abtest/activity_pretest.csv')\n",
    "activity_pretest"
   ]
  },
  {
   "cell_type": "code",
   "execution_count": 33,
   "id": "3ab58454",
   "metadata": {},
   "outputs": [
    {
     "name": "stdout",
     "output_type": "stream",
     "text": [
      "<class 'pandas.core.frame.DataFrame'>\n",
      "RangeIndex: 1860000 entries, 0 to 1859999\n",
      "Data columns (total 3 columns):\n",
      " #   Column          Dtype \n",
      "---  ------          ----- \n",
      " 0   userid          object\n",
      " 1   dt              object\n",
      " 2   activity_level  int64 \n",
      "dtypes: int64(1), object(2)\n",
      "memory usage: 42.6+ MB\n"
     ]
    }
   ],
   "source": [
    "activity_pretest.info()"
   ]
  },
  {
   "cell_type": "code",
   "execution_count": 36,
   "id": "482e07e9",
   "metadata": {},
   "outputs": [
    {
     "data": {
      "text/html": [
       "<div>\n",
       "<style scoped>\n",
       "    .dataframe tbody tr th:only-of-type {\n",
       "        vertical-align: middle;\n",
       "    }\n",
       "\n",
       "    .dataframe tbody tr th {\n",
       "        vertical-align: top;\n",
       "    }\n",
       "\n",
       "    .dataframe thead th {\n",
       "        text-align: right;\n",
       "    }\n",
       "</style>\n",
       "<table border=\"1\" class=\"dataframe\">\n",
       "  <thead>\n",
       "    <tr style=\"text-align: right;\">\n",
       "      <th></th>\n",
       "      <th>userid</th>\n",
       "      <th>dt</th>\n",
       "      <th>activity_level</th>\n",
       "    </tr>\n",
       "  </thead>\n",
       "  <tbody>\n",
       "    <tr>\n",
       "      <th>0</th>\n",
       "      <td>a5b70ae7-f07c-4773-9df4-ce112bc9dc48</td>\n",
       "      <td>2021-10-01</td>\n",
       "      <td>0</td>\n",
       "    </tr>\n",
       "    <tr>\n",
       "      <th>1</th>\n",
       "      <td>d2646662-269f-49de-aab1-8776afced9a3</td>\n",
       "      <td>2021-10-01</td>\n",
       "      <td>0</td>\n",
       "    </tr>\n",
       "    <tr>\n",
       "      <th>2</th>\n",
       "      <td>c4d1cfa8-283d-49ad-a894-90aedc39c798</td>\n",
       "      <td>2021-10-01</td>\n",
       "      <td>0</td>\n",
       "    </tr>\n",
       "    <tr>\n",
       "      <th>3</th>\n",
       "      <td>6889f87f-5356-4904-a35a-6ea5020011db</td>\n",
       "      <td>2021-10-01</td>\n",
       "      <td>0</td>\n",
       "    </tr>\n",
       "    <tr>\n",
       "      <th>4</th>\n",
       "      <td>dbee604c-474a-4c9d-b013-508e5a0e3059</td>\n",
       "      <td>2021-10-01</td>\n",
       "      <td>0</td>\n",
       "    </tr>\n",
       "    <tr>\n",
       "      <th>...</th>\n",
       "      <td>...</td>\n",
       "      <td>...</td>\n",
       "      <td>...</td>\n",
       "    </tr>\n",
       "    <tr>\n",
       "      <th>1859995</th>\n",
       "      <td>200d65e6-b1ce-4a47-8c2b-946db5c5a3a0</td>\n",
       "      <td>2021-10-31</td>\n",
       "      <td>20</td>\n",
       "    </tr>\n",
       "    <tr>\n",
       "      <th>1859996</th>\n",
       "      <td>535dafe4-de7c-4b56-acf6-aa94f21653bc</td>\n",
       "      <td>2021-10-31</td>\n",
       "      <td>20</td>\n",
       "    </tr>\n",
       "    <tr>\n",
       "      <th>1859997</th>\n",
       "      <td>0428ca3c-e666-4ef4-8588-3a2af904a123</td>\n",
       "      <td>2021-10-31</td>\n",
       "      <td>20</td>\n",
       "    </tr>\n",
       "    <tr>\n",
       "      <th>1859998</th>\n",
       "      <td>a8cd1579-44d4-48b3-b3d6-47ae5197dbc6</td>\n",
       "      <td>2021-10-31</td>\n",
       "      <td>20</td>\n",
       "    </tr>\n",
       "    <tr>\n",
       "      <th>1859999</th>\n",
       "      <td>bac5da9e-ef79-4ae9-9efe-cd6eca093db2</td>\n",
       "      <td>2021-10-31</td>\n",
       "      <td>20</td>\n",
       "    </tr>\n",
       "  </tbody>\n",
       "</table>\n",
       "<p>1860000 rows × 3 columns</p>\n",
       "</div>"
      ],
      "text/plain": [
       "                                       userid         dt  activity_level\n",
       "0        a5b70ae7-f07c-4773-9df4-ce112bc9dc48 2021-10-01               0\n",
       "1        d2646662-269f-49de-aab1-8776afced9a3 2021-10-01               0\n",
       "2        c4d1cfa8-283d-49ad-a894-90aedc39c798 2021-10-01               0\n",
       "3        6889f87f-5356-4904-a35a-6ea5020011db 2021-10-01               0\n",
       "4        dbee604c-474a-4c9d-b013-508e5a0e3059 2021-10-01               0\n",
       "...                                       ...        ...             ...\n",
       "1859995  200d65e6-b1ce-4a47-8c2b-946db5c5a3a0 2021-10-31              20\n",
       "1859996  535dafe4-de7c-4b56-acf6-aa94f21653bc 2021-10-31              20\n",
       "1859997  0428ca3c-e666-4ef4-8588-3a2af904a123 2021-10-31              20\n",
       "1859998  a8cd1579-44d4-48b3-b3d6-47ae5197dbc6 2021-10-31              20\n",
       "1859999  bac5da9e-ef79-4ae9-9efe-cd6eca093db2 2021-10-31              20\n",
       "\n",
       "[1860000 rows x 3 columns]"
      ]
     },
     "execution_count": 36,
     "metadata": {},
     "output_type": "execute_result"
    }
   ],
   "source": [
    "activity_pretest['dt'] = pd.to_datetime(activity_pretest['dt'], format=\"%Y-%m-%d\")\n",
    "activity_pretest"
   ]
  },
  {
   "cell_type": "code",
   "execution_count": 17,
   "id": "fc52ea88",
   "metadata": {},
   "outputs": [
    {
     "data": {
      "text/plain": [
       "array([ 0,  1,  2,  3,  4,  5,  6,  7,  8,  9, 10, 11, 12, 13, 14, 15, 16,\n",
       "       17, 18, 19, 20])"
      ]
     },
     "execution_count": 17,
     "metadata": {},
     "output_type": "execute_result"
    }
   ],
   "source": [
    "activity_level=activity_pretest['activity_level'].unique()\n",
    "activity_level"
   ]
  },
  {
   "cell_type": "code",
   "execution_count": 19,
   "id": "4d0b142d",
   "metadata": {},
   "outputs": [
    {
     "data": {
      "text/plain": [
       "array(['a5b70ae7-f07c-4773-9df4-ce112bc9dc48',\n",
       "       'd2646662-269f-49de-aab1-8776afced9a3',\n",
       "       'c4d1cfa8-283d-49ad-a894-90aedc39c798', ...,\n",
       "       'd53c8ed4-493e-4844-a3a5-b1b4361eb744',\n",
       "       'e99b655f-1c41-444d-a0b6-615ee688a259',\n",
       "       'ae570647-3b27-4e1d-9a01-f77b8636c592'], dtype=object)"
      ]
     },
     "execution_count": 19,
     "metadata": {},
     "output_type": "execute_result"
    }
   ],
   "source": [
    "users_activity= activity_pretest['userid'].unique()\n",
    "users_activity"
   ]
  },
  {
   "cell_type": "code",
   "execution_count": 9,
   "id": "1e428a2a",
   "metadata": {},
   "outputs": [
    {
     "data": {
      "text/plain": [
       "activity_level\n",
       "0     909125\n",
       "1      48732\n",
       "2      49074\n",
       "3      48659\n",
       "4      48556\n",
       "5      49227\n",
       "6      48901\n",
       "7      48339\n",
       "8      48396\n",
       "9      48820\n",
       "10     48943\n",
       "11     48832\n",
       "12     48911\n",
       "13     48534\n",
       "14     48620\n",
       "15     48599\n",
       "16     48934\n",
       "17     48395\n",
       "18     48982\n",
       "19     48901\n",
       "20     24520\n",
       "Name: userid, dtype: int64"
      ]
     },
     "execution_count": 9,
     "metadata": {},
     "output_type": "execute_result"
    }
   ],
   "source": [
    "activity_counts = activity_pretest.groupby('activity_level')['userid'].count()\n",
    "activity_counts"
   ]
  },
  {
   "cell_type": "code",
   "execution_count": 21,
   "id": "49582308",
   "metadata": {},
   "outputs": [
    {
     "data": {
      "text/html": [
       "<div>\n",
       "<style scoped>\n",
       "    .dataframe tbody tr th:only-of-type {\n",
       "        vertical-align: middle;\n",
       "    }\n",
       "\n",
       "    .dataframe tbody tr th {\n",
       "        vertical-align: top;\n",
       "    }\n",
       "\n",
       "    .dataframe thead th {\n",
       "        text-align: right;\n",
       "    }\n",
       "</style>\n",
       "<table border=\"1\" class=\"dataframe\">\n",
       "  <thead>\n",
       "    <tr style=\"text-align: right;\">\n",
       "      <th></th>\n",
       "      <th>dt</th>\n",
       "      <th>activity_level</th>\n",
       "    </tr>\n",
       "  </thead>\n",
       "  <tbody>\n",
       "    <tr>\n",
       "      <th>0</th>\n",
       "      <td>2021-10-01</td>\n",
       "      <td>21</td>\n",
       "    </tr>\n",
       "    <tr>\n",
       "      <th>1</th>\n",
       "      <td>2021-10-02</td>\n",
       "      <td>21</td>\n",
       "    </tr>\n",
       "    <tr>\n",
       "      <th>2</th>\n",
       "      <td>2021-10-03</td>\n",
       "      <td>21</td>\n",
       "    </tr>\n",
       "    <tr>\n",
       "      <th>3</th>\n",
       "      <td>2021-10-04</td>\n",
       "      <td>21</td>\n",
       "    </tr>\n",
       "    <tr>\n",
       "      <th>4</th>\n",
       "      <td>2021-10-05</td>\n",
       "      <td>21</td>\n",
       "    </tr>\n",
       "    <tr>\n",
       "      <th>5</th>\n",
       "      <td>2021-10-06</td>\n",
       "      <td>21</td>\n",
       "    </tr>\n",
       "    <tr>\n",
       "      <th>6</th>\n",
       "      <td>2021-10-07</td>\n",
       "      <td>21</td>\n",
       "    </tr>\n",
       "    <tr>\n",
       "      <th>7</th>\n",
       "      <td>2021-10-08</td>\n",
       "      <td>21</td>\n",
       "    </tr>\n",
       "    <tr>\n",
       "      <th>8</th>\n",
       "      <td>2021-10-09</td>\n",
       "      <td>21</td>\n",
       "    </tr>\n",
       "    <tr>\n",
       "      <th>9</th>\n",
       "      <td>2021-10-10</td>\n",
       "      <td>21</td>\n",
       "    </tr>\n",
       "    <tr>\n",
       "      <th>10</th>\n",
       "      <td>2021-10-11</td>\n",
       "      <td>21</td>\n",
       "    </tr>\n",
       "    <tr>\n",
       "      <th>11</th>\n",
       "      <td>2021-10-12</td>\n",
       "      <td>21</td>\n",
       "    </tr>\n",
       "    <tr>\n",
       "      <th>12</th>\n",
       "      <td>2021-10-13</td>\n",
       "      <td>21</td>\n",
       "    </tr>\n",
       "    <tr>\n",
       "      <th>13</th>\n",
       "      <td>2021-10-14</td>\n",
       "      <td>21</td>\n",
       "    </tr>\n",
       "    <tr>\n",
       "      <th>14</th>\n",
       "      <td>2021-10-15</td>\n",
       "      <td>21</td>\n",
       "    </tr>\n",
       "    <tr>\n",
       "      <th>15</th>\n",
       "      <td>2021-10-16</td>\n",
       "      <td>21</td>\n",
       "    </tr>\n",
       "    <tr>\n",
       "      <th>16</th>\n",
       "      <td>2021-10-17</td>\n",
       "      <td>21</td>\n",
       "    </tr>\n",
       "    <tr>\n",
       "      <th>17</th>\n",
       "      <td>2021-10-18</td>\n",
       "      <td>21</td>\n",
       "    </tr>\n",
       "    <tr>\n",
       "      <th>18</th>\n",
       "      <td>2021-10-19</td>\n",
       "      <td>21</td>\n",
       "    </tr>\n",
       "    <tr>\n",
       "      <th>19</th>\n",
       "      <td>2021-10-20</td>\n",
       "      <td>21</td>\n",
       "    </tr>\n",
       "    <tr>\n",
       "      <th>20</th>\n",
       "      <td>2021-10-21</td>\n",
       "      <td>21</td>\n",
       "    </tr>\n",
       "    <tr>\n",
       "      <th>21</th>\n",
       "      <td>2021-10-22</td>\n",
       "      <td>21</td>\n",
       "    </tr>\n",
       "    <tr>\n",
       "      <th>22</th>\n",
       "      <td>2021-10-23</td>\n",
       "      <td>21</td>\n",
       "    </tr>\n",
       "    <tr>\n",
       "      <th>23</th>\n",
       "      <td>2021-10-24</td>\n",
       "      <td>21</td>\n",
       "    </tr>\n",
       "    <tr>\n",
       "      <th>24</th>\n",
       "      <td>2021-10-25</td>\n",
       "      <td>21</td>\n",
       "    </tr>\n",
       "    <tr>\n",
       "      <th>25</th>\n",
       "      <td>2021-10-26</td>\n",
       "      <td>21</td>\n",
       "    </tr>\n",
       "    <tr>\n",
       "      <th>26</th>\n",
       "      <td>2021-10-27</td>\n",
       "      <td>21</td>\n",
       "    </tr>\n",
       "    <tr>\n",
       "      <th>27</th>\n",
       "      <td>2021-10-28</td>\n",
       "      <td>21</td>\n",
       "    </tr>\n",
       "    <tr>\n",
       "      <th>28</th>\n",
       "      <td>2021-10-29</td>\n",
       "      <td>21</td>\n",
       "    </tr>\n",
       "    <tr>\n",
       "      <th>29</th>\n",
       "      <td>2021-10-30</td>\n",
       "      <td>21</td>\n",
       "    </tr>\n",
       "    <tr>\n",
       "      <th>30</th>\n",
       "      <td>2021-10-31</td>\n",
       "      <td>21</td>\n",
       "    </tr>\n",
       "  </tbody>\n",
       "</table>\n",
       "</div>"
      ],
      "text/plain": [
       "            dt  activity_level\n",
       "0   2021-10-01              21\n",
       "1   2021-10-02              21\n",
       "2   2021-10-03              21\n",
       "3   2021-10-04              21\n",
       "4   2021-10-05              21\n",
       "5   2021-10-06              21\n",
       "6   2021-10-07              21\n",
       "7   2021-10-08              21\n",
       "8   2021-10-09              21\n",
       "9   2021-10-10              21\n",
       "10  2021-10-11              21\n",
       "11  2021-10-12              21\n",
       "12  2021-10-13              21\n",
       "13  2021-10-14              21\n",
       "14  2021-10-15              21\n",
       "15  2021-10-16              21\n",
       "16  2021-10-17              21\n",
       "17  2021-10-18              21\n",
       "18  2021-10-19              21\n",
       "19  2021-10-20              21\n",
       "20  2021-10-21              21\n",
       "21  2021-10-22              21\n",
       "22  2021-10-23              21\n",
       "23  2021-10-24              21\n",
       "24  2021-10-25              21\n",
       "25  2021-10-26              21\n",
       "26  2021-10-27              21\n",
       "27  2021-10-28              21\n",
       "28  2021-10-29              21\n",
       "29  2021-10-30              21\n",
       "30  2021-10-31              21"
      ]
     },
     "execution_count": 21,
     "metadata": {},
     "output_type": "execute_result"
    }
   ],
   "source": [
    "activity_day= activity_pretest.groupby(['dt'])[['activity_level']].nunique().reset_index()\n",
    "activity_day"
   ]
  },
  {
   "cell_type": "markdown",
   "id": "2a033f4f",
   "metadata": {},
   "source": [
    "### Daily active users (DAU)\n",
    "\n",
    "![ab_test](./img/user_activity_ab_testing.JPG)\n",
    "\n",
    "\n",
    "The daily active users (DAU) refers to the amount of users that are active per day (activity level of zero means no activity). You must perform the calculation of this metric and provide your insights about it.\n",
    "\n",
    "__Dataset:__ `activity_pretest.csv`"
   ]
  },
  {
   "cell_type": "code",
   "execution_count": 22,
   "id": "38006d00",
   "metadata": {},
   "outputs": [
    {
     "ename": "KeyError",
     "evalue": "'dt'",
     "output_type": "error",
     "traceback": [
      "\u001b[0;31m---------------------------------------------------------------------------\u001b[0m",
      "\u001b[0;31mKeyError\u001b[0m                                  Traceback (most recent call last)",
      "Cell \u001b[0;32mIn[22], line 2\u001b[0m\n\u001b[1;32m      1\u001b[0m \u001b[38;5;66;03m# your-code\u001b[39;00m\n\u001b[0;32m----> 2\u001b[0m daily_activity_users \u001b[38;5;241m=\u001b[39m activity_pretest[activity_pretest[\u001b[38;5;124m'\u001b[39m\u001b[38;5;124mactivity_level\u001b[39m\u001b[38;5;124m'\u001b[39m][\u001b[38;5;124m'\u001b[39m\u001b[38;5;124mdt\u001b[39m\u001b[38;5;124m'\u001b[39m]]\n\u001b[1;32m      3\u001b[0m dau\u001b[38;5;241m=\u001b[39m daily_activity_users\u001b[38;5;241m.\u001b[39mgroupby([\u001b[38;5;124m'\u001b[39m\u001b[38;5;124mdt\u001b[39m\u001b[38;5;124m'\u001b[39m])([\u001b[38;5;124m'\u001b[39m\u001b[38;5;124muserid\u001b[39m\u001b[38;5;124m'\u001b[39m])\u001b[38;5;241m.\u001b[39mnunique()\u001b[38;5;241m.\u001b[39mreset_index()\n\u001b[1;32m      4\u001b[0m dau\u001b[38;5;241m.\u001b[39mcolumns \u001b[38;5;241m=\u001b[39m [\u001b[38;5;124m'\u001b[39m\u001b[38;5;124mtimesstamp\u001b[39m\u001b[38;5;124m'\u001b[39m,\u001b[38;5;124m'\u001b[39m\u001b[38;5;124mdau\u001b[39m\u001b[38;5;124m'\u001b[39m]\n",
      "File \u001b[0;32m~/miniconda3/envs/m2_env/lib/python3.11/site-packages/pandas/core/series.py:1040\u001b[0m, in \u001b[0;36mSeries.__getitem__\u001b[0;34m(self, key)\u001b[0m\n\u001b[1;32m   1037\u001b[0m     \u001b[38;5;28;01mreturn\u001b[39;00m \u001b[38;5;28mself\u001b[39m\u001b[38;5;241m.\u001b[39m_values[key]\n\u001b[1;32m   1039\u001b[0m \u001b[38;5;28;01melif\u001b[39;00m key_is_scalar:\n\u001b[0;32m-> 1040\u001b[0m     \u001b[38;5;28;01mreturn\u001b[39;00m \u001b[38;5;28mself\u001b[39m\u001b[38;5;241m.\u001b[39m_get_value(key)\n\u001b[1;32m   1042\u001b[0m \u001b[38;5;66;03m# Convert generator to list before going through hashable part\u001b[39;00m\n\u001b[1;32m   1043\u001b[0m \u001b[38;5;66;03m# (We will iterate through the generator there to check for slices)\u001b[39;00m\n\u001b[1;32m   1044\u001b[0m \u001b[38;5;28;01mif\u001b[39;00m is_iterator(key):\n",
      "File \u001b[0;32m~/miniconda3/envs/m2_env/lib/python3.11/site-packages/pandas/core/series.py:1156\u001b[0m, in \u001b[0;36mSeries._get_value\u001b[0;34m(self, label, takeable)\u001b[0m\n\u001b[1;32m   1153\u001b[0m     \u001b[38;5;28;01mreturn\u001b[39;00m \u001b[38;5;28mself\u001b[39m\u001b[38;5;241m.\u001b[39m_values[label]\n\u001b[1;32m   1155\u001b[0m \u001b[38;5;66;03m# Similar to Index.get_value, but we do not fall back to positional\u001b[39;00m\n\u001b[0;32m-> 1156\u001b[0m loc \u001b[38;5;241m=\u001b[39m \u001b[38;5;28mself\u001b[39m\u001b[38;5;241m.\u001b[39mindex\u001b[38;5;241m.\u001b[39mget_loc(label)\n\u001b[1;32m   1158\u001b[0m \u001b[38;5;28;01mif\u001b[39;00m is_integer(loc):\n\u001b[1;32m   1159\u001b[0m     \u001b[38;5;28;01mreturn\u001b[39;00m \u001b[38;5;28mself\u001b[39m\u001b[38;5;241m.\u001b[39m_values[loc]\n",
      "File \u001b[0;32m~/miniconda3/envs/m2_env/lib/python3.11/site-packages/pandas/core/indexes/range.py:418\u001b[0m, in \u001b[0;36mRangeIndex.get_loc\u001b[0;34m(self, key)\u001b[0m\n\u001b[1;32m    416\u001b[0m         \u001b[38;5;28;01mraise\u001b[39;00m \u001b[38;5;167;01mKeyError\u001b[39;00m(key) \u001b[38;5;28;01mfrom\u001b[39;00m \u001b[38;5;21;01merr\u001b[39;00m\n\u001b[1;32m    417\u001b[0m \u001b[38;5;28;01mif\u001b[39;00m \u001b[38;5;28misinstance\u001b[39m(key, Hashable):\n\u001b[0;32m--> 418\u001b[0m     \u001b[38;5;28;01mraise\u001b[39;00m \u001b[38;5;167;01mKeyError\u001b[39;00m(key)\n\u001b[1;32m    419\u001b[0m \u001b[38;5;28mself\u001b[39m\u001b[38;5;241m.\u001b[39m_check_indexing_error(key)\n\u001b[1;32m    420\u001b[0m \u001b[38;5;28;01mraise\u001b[39;00m \u001b[38;5;167;01mKeyError\u001b[39;00m(key)\n",
      "\u001b[0;31mKeyError\u001b[0m: 'dt'"
     ]
    }
   ],
   "source": [
    "# your-code\n",
    "daily_activity_users = activity_pretest[activity_pretest['activity_level']['dt']]\n",
    "dau= daily_activity_users.groupby(['dt'])(['userid']).nunique().reset_index()\n",
    "dau.columns = ['times','dau']\n",
    "dau\n"
   ]
  },
  {
   "cell_type": "markdown",
   "id": "9f2b985c",
   "metadata": {},
   "source": [
    "### Click-through rate (CTR)\n",
    "\n",
    "![ab_test](./img/ad_click_through_rate_ab_testing.JPG)\n",
    "\n",
    "Click-through rate (CTR) refers to the percentage of clicks that the user perform from the total amount ads showed to that user during a certain day. You must perform the analysis of this metric (e.g.: average CTR per day) and provide your insights about it.\n",
    "\n",
    "__Dataset:__ `ctr_pretest.csv`"
   ]
  },
  {
   "cell_type": "code",
   "execution_count": 9,
   "id": "7959450f",
   "metadata": {},
   "outputs": [],
   "source": [
    "# your-code\n",
    "ctr_pretest = pd.read_csv(\"./abtest/ctr_pretest.csv\")\n",
    "\n"
   ]
  },
  {
   "cell_type": "code",
   "execution_count": 7,
   "id": "a7ba17f4",
   "metadata": {},
   "outputs": [
    {
     "name": "stdout",
     "output_type": "stream",
     "text": [
      "                                 userid          dt    ctr\n",
      "0  4b328144-df4b-47b1-a804-09834942dce0  2021-10-01  34.28\n",
      "1  34ace777-5e9d-40b3-a859-4145d0c35c8d  2021-10-01  34.67\n",
      "2  8028cccf-19c3-4c0e-b5b2-e707e15d2d83  2021-10-01  34.77\n",
      "3  652b3c9c-5e29-4bf0-9373-924687b1567e  2021-10-01  35.42\n",
      "4  45b57434-4666-4b57-9798-35489dc1092a  2021-10-01  35.04\n"
     ]
    }
   ],
   "source": [
    "print(ctr_pretest.head())\n"
   ]
  },
  {
   "cell_type": "code",
   "execution_count": 8,
   "id": "c133de3c",
   "metadata": {},
   "outputs": [
    {
     "name": "stdout",
     "output_type": "stream",
     "text": [
      "<class 'pandas.core.frame.DataFrame'>\n",
      "RangeIndex: 950875 entries, 0 to 950874\n",
      "Data columns (total 3 columns):\n",
      " #   Column  Non-Null Count   Dtype  \n",
      "---  ------  --------------   -----  \n",
      " 0   userid  950875 non-null  object \n",
      " 1   dt      950875 non-null  object \n",
      " 2   ctr     950875 non-null  float64\n",
      "dtypes: float64(1), object(2)\n",
      "memory usage: 21.8+ MB\n",
      "None\n"
     ]
    }
   ],
   "source": [
    "print(ctr_pretest.info())"
   ]
  },
  {
   "cell_type": "code",
   "execution_count": 12,
   "id": "91928d41",
   "metadata": {},
   "outputs": [],
   "source": [
    "#ctr_pretest['CTR'] = ctr_pretest['ctr'] / ctr_pretest['userid'] * 100"
   ]
  },
  {
   "cell_type": "markdown",
   "id": "2303aae2",
   "metadata": {},
   "source": [
    "---\n",
    "\n",
    "## Pretest metrics \n",
    "\n",
    "In this section you will perform the analysis of the metrics using the dataset that includes the result for the test and control groups, but only for the pretest data (i.e.: prior to November 1st, 2021). You must provide insights about the metrics (__Activity level__, __DAU__ and __CTR__) and also perform an hyphotesis test in order to determine whether there is any statistical significant difference between the groups prior to the start of the experiment. You must try different approaches (i.e.: __z-test__ and __t-test__) and compare the results.\n",
    "\n",
    "\n",
    "__Datasets:__ `activity_all.csv`, `ctr_all.csv`"
   ]
  },
  {
   "cell_type": "code",
   "execution_count": null,
   "id": "66d2637f",
   "metadata": {},
   "outputs": [],
   "source": [
    "# your-code\n",
    "ctr_all\n",
    "\n"
   ]
  },
  {
   "cell_type": "markdown",
   "id": "f8a51d75",
   "metadata": {},
   "source": [
    "---\n",
    "\n",
    "## Experiment metrics \n",
    "\n",
    "In this section you must perform the same analysis as in the previous section, but using the data generated during the experiment (i.e.: after November 1st, 2021). You must provide insights about the metrics (__Activity level__, __DAU__ and __CTR__) and also perform an hyphotesis test in order to determine whether there is any statistical significant difference between the groups during the experiment. You must try different approaches (i.e.: __z-test__ and __t-test__) and compare the results.\n",
    "\n",
    "\n",
    "__Datasets:__ `activity_all.csv`, `ctr_all.csv`"
   ]
  },
  {
   "cell_type": "code",
   "execution_count": 7,
   "id": "99892d68",
   "metadata": {},
   "outputs": [],
   "source": [
    "# your-code\n",
    "\n",
    "\n"
   ]
  },
  {
   "cell_type": "markdown",
   "id": "1ea6cd70",
   "metadata": {},
   "source": [
    "---\n",
    "\n",
    "## Conclusions\n",
    "\n",
    "Please provide your conclusions after the analyses and your recommendation whether we may or may not implement the changes in the digital product."
   ]
  },
  {
   "cell_type": "code",
   "execution_count": 8,
   "id": "e04b3a04",
   "metadata": {},
   "outputs": [],
   "source": [
    "# your-conclusions\n",
    "\n",
    "\n"
   ]
  },
  {
   "cell_type": "markdown",
   "id": "4c014b7f",
   "metadata": {},
   "source": [
    "---"
   ]
  }
 ],
 "metadata": {
  "kernelspec": {
   "display_name": "python (m2_env)",
   "language": "python",
   "name": "m2_env"
  },
  "language_info": {
   "codemirror_mode": {
    "name": "ipython",
    "version": 3
   },
   "file_extension": ".py",
   "mimetype": "text/x-python",
   "name": "python",
   "nbconvert_exporter": "python",
   "pygments_lexer": "ipython3",
   "version": "3.11.6"
  }
 },
 "nbformat": 4,
 "nbformat_minor": 5
}
